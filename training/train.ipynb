{
 "cells": [
  {
   "cell_type": "code",
   "execution_count": null,
   "metadata": {},
   "outputs": [],
   "source": [
    "import torch\n",
    "import torch.nn as nn\n",
    "from torch.utils.data import DataLoader\n",
    "import torch.nn.functional as F\n",
    "from model import MusicGen\n",
    "from dataset import ShardedDataset\n",
    "from parse_config import Config\n",
    "import os\n",
    "from pathlib import Path\n",
    "\n",
    "from tqdm.auto import tqdm"
   ]
  },
  {
   "cell_type": "code",
   "execution_count": null,
   "metadata": {},
   "outputs": [],
   "source": [
    "from torch.utils.tensorboard import SummaryWriter\n",
    "writer = SummaryWriter(log_dir=\"runs/musicgen_jun24\")"
   ]
  },
  {
   "cell_type": "code",
   "execution_count": null,
   "metadata": {},
   "outputs": [],
   "source": [
    "min_drums_pitch = 35\n",
    "max_drums_pitch = 81\n",
    "n_drums_pitches = max_drums_pitch - min_drums_pitch + 1\n",
    "\n",
    "min_pitch = 0\n",
    "max_pitch = 127\n",
    "n_pitches = max_pitch - min_pitch + 1\n",
    "\n",
    "sequence_length = Config.get('design')['sequence_length']\n",
    "n_velocities = 128\n",
    "n_instruments = 4\n",
    "\n",
    "device = torch.device(\"cuda\" if torch.cuda.is_available() else \"cpu\")"
   ]
  },
  {
   "cell_type": "code",
   "execution_count": null,
   "metadata": {},
   "outputs": [],
   "source": [
    "prefix = input(\"Enter the name/prefix of the processed dataset\")\n",
    "root = os.getcwd()\n",
    "shard_path = os.path.join(root, Config.get(\"preprocessing\")['processed_data_path'], prefix)\n",
    "shards = list(Path(shard_path).rglob(\"*.pth\"))\n",
    "shards.sort()\n",
    "meta_path = shards.pop()\n",
    "meta = torch.load(meta_path)"
   ]
  },
  {
   "cell_type": "code",
   "execution_count": null,
   "metadata": {},
   "outputs": [],
   "source": [
    "print(shards)"
   ]
  },
  {
   "cell_type": "code",
   "execution_count": null,
   "metadata": {},
   "outputs": [],
   "source": [
    "dataset = ShardedDataset(paths=shards, rel_idxs=meta['rel_idxs'])\n",
    "dataloader = DataLoader(\n",
    "    dataset, \n",
    "    batch_size=50,\n",
    "    shuffle=True,\n",
    "    pin_memory=True\n",
    ")"
   ]
  },
  {
   "cell_type": "code",
   "execution_count": null,
   "metadata": {},
   "outputs": [],
   "source": [
    "def custom_loss_fn(out, target):\n",
    "    instrument_logits = out[\"instrument\"]\n",
    "\n",
    "    pitch_drums_logits = out[\"pitch_drums\"]\n",
    "    pitch_bass_logits = out[\"pitch_bass\"]\n",
    "    pitch_chords_logits = out[\"pitch_chords\"]\n",
    "    pitch_lead_logits = out[\"pitch_lead\"]\n",
    "\n",
    "    velocity_drums_logits = out[\"velocity_drums\"]\n",
    "    velocity_other_logits = out[\"velocity_other\"]\n",
    "\n",
    "    duration_drums = out[\"duration_drums\"]\n",
    "    duration_bass = out[\"duration_bass\"]\n",
    "    duration_chords = out[\"duration_chords\"]\n",
    "    duration_lead = out[\"duration_lead\"]\n",
    "\n",
    "    step_drums = out[\"step_drums\"]\n",
    "    step_other = out[\"step_other\"]\n",
    "\n",
    "    pitch_target = target[:, 0].long()\n",
    "    velocity_target = target[:, 1].long()\n",
    "    duration_target = target[:, 2].unsqueeze(1)\n",
    "    step_target = target[:, 3].unsqueeze(1)\n",
    "    instrument_target = target[:, 4].long()\n",
    "\n",
    "    instrument_loss = F.cross_entropy(instrument_logits, instrument_target)\n",
    "    is_drums = (instrument_target == 0)\n",
    "    is_bass = (instrument_target == 1)\n",
    "    is_chords = (instrument_target == 2)\n",
    "    is_lead = (instrument_target == 3)\n",
    "\n",
    "    # Pitch loss\n",
    "    drums_pitch_loss = F.cross_entropy(pitch_drums_logits[is_drums], pitch_target[is_drums] - min_drums_pitch) if is_drums.any() else 0\n",
    "    bass_pitch_loss = F.cross_entropy(pitch_bass_logits[is_bass], pitch_target[is_bass]) if is_bass.any() else 0\n",
    "    chords_pitch_loss = F.cross_entropy(pitch_chords_logits[is_chords], pitch_target[is_chords]) if is_chords.any() else 0\n",
    "    lead_pitch_loss = F.cross_entropy(pitch_lead_logits[is_lead], pitch_target[is_lead]) if is_lead.any() else 0\n",
    "    pitch_loss = drums_pitch_loss + bass_pitch_loss + chords_pitch_loss + lead_pitch_loss\n",
    "\n",
    "    # Velocity loss\n",
    "    drums_velocity_loss = F.cross_entropy(velocity_drums_logits[is_drums], velocity_target[is_drums]) if is_drums.any() else 0\n",
    "    other_velocity_loss = F.cross_entropy(velocity_other_logits[~is_drums], velocity_target[~is_drums]) if (~is_drums).any() else 0\n",
    "    velocity_loss = drums_velocity_loss + other_velocity_loss\n",
    "\n",
    "    # Duration loss\n",
    "    duration_loss = 0\n",
    "    if is_drums.any(): \n",
    "        duration_loss += F.huber_loss(duration_drums[is_drums], duration_target[is_drums], reduction='mean', delta=1.0)\n",
    "    if is_bass.any():\n",
    "        duration_loss += F.huber_loss(duration_bass[is_bass], duration_target[is_bass], reduction='mean', delta=1.0)\n",
    "    if is_chords.any():\n",
    "        duration_loss += F.huber_loss(duration_chords[is_chords], duration_target[is_chords], reduction='mean', delta=1.0)\n",
    "    if is_lead.any():\n",
    "        duration_loss += F.huber_loss(duration_lead[is_lead], duration_target[is_lead], reduction='mean', delta=1.0)\n",
    "\n",
    "    # Step loss\n",
    "    step_loss = 0\n",
    "    if is_drums.any():\n",
    "        step_loss += F.huber_loss(step_drums[is_drums], step_target[is_drums], reduction='mean', delta=0.02)\n",
    "    if (~is_drums).any():\n",
    "        step_loss += F.huber_loss(step_other[~is_drums], step_target[~is_drums], reduction='mean', delta=0.02)\n",
    "    \n",
    "    # Scale losses\n",
    "    step_loss *= 500\n",
    "    duration_loss *= 50\n",
    "\n",
    "    # Total loss\n",
    "    total_loss = instrument_loss + pitch_loss + velocity_loss + step_loss + duration_loss\n",
    "    return {\n",
    "      'total': total_loss,\n",
    "      'instrument': instrument_loss,\n",
    "      'pitch': pitch_loss,\n",
    "      'velocity': velocity_loss,\n",
    "      'duration': duration_loss,\n",
    "      'step': step_loss\n",
    "    }"
   ]
  },
  {
   "cell_type": "code",
   "execution_count": null,
   "metadata": {},
   "outputs": [],
   "source": [
    "print(meta)"
   ]
  },
  {
   "cell_type": "code",
   "execution_count": null,
   "metadata": {},
   "outputs": [],
   "source": [
    "model = MusicGen(meta)\n",
    "optimizer = torch.optim.Adam(model.parameters(), lr=0.0003)\n",
    "model.to(device)\n",
    "start_epoch = 0"
   ]
  },
  {
   "cell_type": "code",
   "execution_count": null,
   "metadata": {},
   "outputs": [],
   "source": [
    "start_epoch = 15\n",
    "checkpoint_path = \"./trained_weights/modelJun24-checkpoint-7-tree-1-14\"\n",
    "checkpoint = torch.load(checkpoint_path, map_location=device)\n",
    "model.load_state_dict(checkpoint['model'])\n",
    "optimizer.load_state_dict(checkpoint['optimizer'])"
   ]
  },
  {
   "cell_type": "code",
   "execution_count": null,
   "metadata": {},
   "outputs": [
    {
     "name": "stdout",
     "output_type": "stream",
     "text": [
      "Epoch 17/20, Loss: 28.1934\n"
     ]
    },
    {
     "data": {
      "application/vnd.jupyter.widget-view+json": {
       "model_id": "8246dedd2964448a8fa0fa3296525c38",
       "version_major": 2,
       "version_minor": 0
      },
      "text/plain": [
       "  0%|          | 0/983 [00:00<?, ?it/s]"
      ]
     },
     "metadata": {},
     "output_type": "display_data"
    },
    {
     "name": "stdout",
     "output_type": "stream",
     "text": [
      "Epoch 18/20, Loss: 27.9921\n"
     ]
    },
    {
     "data": {
      "application/vnd.jupyter.widget-view+json": {
       "model_id": "c98f2ee225544dbda442b50af7e3b4ea",
       "version_major": 2,
       "version_minor": 0
      },
      "text/plain": [
       "  0%|          | 0/983 [00:00<?, ?it/s]"
      ]
     },
     "metadata": {},
     "output_type": "display_data"
    },
    {
     "name": "stdout",
     "output_type": "stream",
     "text": [
      "Epoch 19/20, Loss: 27.7524\n"
     ]
    },
    {
     "data": {
      "application/vnd.jupyter.widget-view+json": {
       "model_id": "5a88f5c40b644f4a8d66347a534b814d",
       "version_major": 2,
       "version_minor": 0
      },
      "text/plain": [
       "  0%|          | 0/983 [00:00<?, ?it/s]"
      ]
     },
     "metadata": {},
     "output_type": "display_data"
    },
    {
     "name": "stdout",
     "output_type": "stream",
     "text": [
      "Epoch 20/20, Loss: 27.2372\n"
     ]
    }
   ],
   "source": [
    "num_epochs = 20\n",
    "for epoch in range(start_epoch, num_epochs):\n",
    "    model.train()\n",
    "    total_loss = 0.0\n",
    "    batch_loss = 0.0\n",
    "    batch_pitch_loss = 0.0\n",
    "    batch_velocity_loss = 0.0\n",
    "    batch_duration_loss = 0.0\n",
    "    batch_step_loss = 0.0\n",
    "    batch_instrument_loss = 0.0\n",
    "    for batch_idx, (sequences, targets) in tqdm(enumerate(dataloader), total=len(dataloader)):\n",
    "        sequences = sequences.to(device) # batch size, 128, 5\n",
    "        targets = targets.to(device) # batch size, 5\n",
    "\n",
    "        optimizer.zero_grad()\n",
    "        out, hidden = model(sequences) # Predicting without hidden for default hidden = None\n",
    "        loss_out = custom_loss_fn(out, targets)\n",
    "        loss = loss_out['total']\n",
    "        loss.backward()\n",
    "        torch.nn.utils.clip_grad_norm_(model.parameters(), max_norm=1.0)\n",
    "        optimizer.step()\n",
    "\n",
    "        total_loss += loss.item()\n",
    "        batch_loss += loss.item()\n",
    "        batch_pitch_loss += loss_out['pitch'].item()\n",
    "        batch_velocity_loss += loss_out['velocity'].item()\n",
    "        batch_duration_loss += loss_out['duration'].item()\n",
    "        batch_step_loss += loss_out['step'].item()\n",
    "        batch_instrument_loss += loss_out['instrument'].item()\n",
    "\n",
    "        if batch_idx % 10 == 0 and batch_idx > 0:\n",
    "          batch_loss /= 10\n",
    "          writer.add_scalar('Loss/Batch', batch_loss, global_step=batch_idx + epoch * len(dataloader))\n",
    "          writer.add_scalar('Loss/Batch_Pitch', batch_pitch_loss, global_step=batch_idx + epoch * len(dataloader))\n",
    "          writer.add_scalar('Loss/Batch_Velocity', batch_velocity_loss, global_step=batch_idx + epoch * len(dataloader))\n",
    "          writer.add_scalar('Loss/Batch_Duration', batch_duration_loss, global_step=batch_idx + epoch * len(dataloader))\n",
    "          writer.add_scalar('Loss/Batch_Step', batch_step_loss, global_step=batch_idx + epoch * len(dataloader))\n",
    "          writer.add_scalar('Loss/Batch_Instrument', batch_instrument_loss, global_step=batch_idx + epoch * len(dataloader))\n",
    "          batch_loss = 0.0\n",
    "          batch_pitch_loss = 0.0\n",
    "          batch_velocity_loss = 0.0\n",
    "          batch_duration_loss = 0.0\n",
    "          batch_step_loss = 0.0\n",
    "          batch_instrument_loss = 0.0\n",
    "\n",
    "    torch.save({\n",
    "      'model': model.state_dict(),\n",
    "      'optimizer': optimizer.state_dict()\n",
    "      }, f\"trained_weights/modelJun24-checkpoint-7-tree-1-{epoch}\")\n",
    "    \n",
    "    avg_loss = total_loss / len(dataloader)\n",
    "    print(f\"Epoch {epoch+1}/{num_epochs}, Loss: {avg_loss:.4f}\")"
   ]
  }
 ],
 "metadata": {
  "kernelspec": {
   "display_name": "pytorch-env",
   "language": "python",
   "name": "python3"
  },
  "language_info": {
   "codemirror_mode": {
    "name": "ipython",
    "version": 3
   },
   "file_extension": ".py",
   "mimetype": "text/x-python",
   "name": "python",
   "nbconvert_exporter": "python",
   "pygments_lexer": "ipython3",
   "version": "3.12.8"
  }
 },
 "nbformat": 4,
 "nbformat_minor": 2
}
